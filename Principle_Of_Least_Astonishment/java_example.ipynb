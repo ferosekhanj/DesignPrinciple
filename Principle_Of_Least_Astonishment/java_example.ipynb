{
 "cells": [
  {
   "cell_type": "markdown",
   "source": [
    "# Be careful with naming"
   ],
   "metadata": {}
  },
  {
   "cell_type": "markdown",
   "source": [
    "## Java Run"
   ],
   "metadata": {}
  },
  {
   "cell_type": "code",
   "execution_count": null,
   "source": [
    "Thread thread = new Thread(){\r\n",
    "    public void run(){\r\n",
    "      System.out.println(\"Thread Running\");\r\n",
    "      System.out.println(Thread.currentThread().getId());\r\n",
    "    }\r\n",
    "};\r\n",
    "System.out.println(Thread.currentThread().getId());\r\n",
    "thread.run();"
   ],
   "outputs": [],
   "metadata": {
    "dotnet_interactive": {
     "language": "csharp"
    }
   }
  },
  {
   "cell_type": "markdown",
   "source": [
    "## Java Start"
   ],
   "metadata": {}
  },
  {
   "cell_type": "code",
   "execution_count": null,
   "source": [
    "// Be careful with names\r\n",
    "\r\n",
    "Thread thread = new Thread(){\r\n",
    "    public void run(){\r\n",
    "      System.out.println(\"Thread Running\");\r\n",
    "      System.out.println(Thread.currentThread().getId());\r\n",
    "    }\r\n",
    "};\r\n",
    "System.out.println(Thread.currentThread().getId());\r\n",
    "thread.start();\r\n",
    "thread.join();"
   ],
   "outputs": [],
   "metadata": {
    "dotnet_interactive": {
     "language": "csharp"
    }
   }
  }
 ],
 "metadata": {
  "kernelspec": {
   "display_name": "Java",
   "language": "java",
   "name": "java"
  },
  "language_info": {
   "name": "Java",
   "version": "16.0.2+7",
   "mimetype": "text/x-java-source",
   "file_extension": ".jshell",
   "pygments_lexer": "java",
   "codemirror_mode": "java"
  }
 },
 "nbformat": 4,
 "nbformat_minor": 4
}