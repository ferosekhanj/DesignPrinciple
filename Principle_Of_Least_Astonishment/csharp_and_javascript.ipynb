{
 "cells": [
  {
   "cell_type": "markdown",
   "source": [
    "# Follow universal concepts"
   ],
   "metadata": {
    "tags": []
   }
  },
  {
   "cell_type": "code",
   "execution_count": null,
   "source": [
    "var day= new Date(2021,1,31);\r\n",
    "console.log(day.toString());"
   ],
   "outputs": [],
   "metadata": {
    "dotnet_interactive": {
     "language": "javascript"
    }
   }
  },
  {
   "cell_type": "markdown",
   "source": [
    "# Ensure complete implementations"
   ],
   "metadata": {}
  },
  {
   "cell_type": "code",
   "execution_count": null,
   "source": [
    "IList<int> l = new int[]{1,2,3};\r\n",
    "l.Add(1);"
   ],
   "outputs": [],
   "metadata": {
    "dotnet_interactive": {
     "language": "csharp"
    },
    "tags": []
   }
  },
  {
   "cell_type": "markdown",
   "source": [
    "# Consistent parameter order"
   ],
   "metadata": {}
  },
  {
   "cell_type": "code",
   "execution_count": null,
   "source": [
    "void Foo(string UserName)\r\n",
    "{\r\n",
    "    if(UserName == null)\r\n",
    "        throw new ArgumentException(\"argument UserName cannot be null\",\"UserName\");\r\n",
    "}\r\n",
    "Foo(null);"
   ],
   "outputs": [],
   "metadata": {
    "dotnet_interactive": {
     "language": "csharp"
    },
    "tags": []
   }
  },
  {
   "cell_type": "code",
   "execution_count": null,
   "source": [
    "void Foo(string UserName)\r\n",
    "{\r\n",
    "    if(UserName == null)\r\n",
    "    throw new ArgumentNullException(\"argument UserName cannot be null\",\"UserName\");\r\n",
    "}\r\n",
    "\r\n",
    "Foo(null);"
   ],
   "outputs": [],
   "metadata": {
    "dotnet_interactive": {
     "language": "csharp"
    },
    "tags": []
   }
  },
  {
   "cell_type": "markdown",
   "source": [
    "# Be careful with names"
   ],
   "metadata": {}
  },
  {
   "cell_type": "markdown",
   "source": [
    "## DateTime"
   ],
   "metadata": {}
  },
  {
   "cell_type": "code",
   "execution_count": null,
   "source": [
    "var now = DateTime.Now;\r\n",
    "Console.WriteLine(now);\r\n",
    "now.AddDays(1);\r\n",
    "Console.WriteLine(now);"
   ],
   "outputs": [],
   "metadata": {
    "dotnet_interactive": {
     "language": "csharp"
    },
    "tags": []
   }
  },
  {
   "cell_type": "markdown",
   "source": [
    "## Timespan"
   ],
   "metadata": {}
  },
  {
   "cell_type": "code",
   "execution_count": null,
   "source": [
    "var utc = DateTime.UtcNow;\r\n",
    "var timeSpan = DateTime.Now - utc;\r\n",
    "Console.WriteLine(timeSpan.Seconds);"
   ],
   "outputs": [],
   "metadata": {
    "dotnet_interactive": {
     "language": "csharp"
    }
   }
  },
  {
   "cell_type": "code",
   "execution_count": null,
   "source": [
    "var utc = DateTime.UtcNow;\r\n",
    "var timeSpan = DateTime.Now - utc;\r\n",
    "Console.WriteLine(timeSpan.TotalSeconds);"
   ],
   "outputs": [],
   "metadata": {
    "dotnet_interactive": {
     "language": "csharp"
    }
   }
  }
 ],
 "metadata": {
  "kernelspec": {
   "display_name": ".NET (C#)",
   "language": "C#",
   "name": ".net-csharp"
  },
  "language_info": {
   "file_extension": ".cs",
   "mimetype": "text/x-csharp",
   "name": "C#",
   "pygments_lexer": "csharp",
   "version": "9.0"
  }
 },
 "nbformat": 4,
 "nbformat_minor": 4
}